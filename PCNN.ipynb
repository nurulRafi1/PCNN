{
 "cells": [
  {
   "cell_type": "code",
   "execution_count": 57,
   "id": "fa68f532",
   "metadata": {},
   "outputs": [],
   "source": [
    "import numpy as np\n",
    "from scipy.signal import cspline2d\n",
    "import imageio as img\n",
    "from PIL import Image"
   ]
  },
  {
   "cell_type": "markdown",
   "id": "3631196c",
   "metadata": {},
   "source": [
    "# PCNN\n"
   ]
  },
  {
   "cell_type": "code",
   "execution_count": 63,
   "id": "b5313383",
   "metadata": {},
   "outputs": [],
   "source": [
    "class PCNN:\n",
    "    \n",
    "    f, l, t1, t2, beta = 0.9, 0.8, 0.8, 50.0, 0.2\n",
    "    \n",
    "    def __init__ (self, dim):\n",
    "        \n",
    "        \"\"\"Convert temperature in Fahrenheit to kelvin.\n",
    "    \n",
    "        Parameters:\n",
    "        -----------\n",
    "        fahr: int or float\n",
    "            The tempature in Fahrenheit.\n",
    "\n",
    "        Returns:\n",
    "        -----------\n",
    "        kelvin : int or float\n",
    "            The temperature in kelvin.\n",
    "        \"\"\"\n",
    "        \n",
    "        self.F = np.zeros(dim, float)\n",
    "        self.L = np.zeros(dim, float)\n",
    "        self.Y = np.zeros(dim, float)\n",
    "        self.T = np.zeros(dim, float) + 0.0001\n",
    "        \n",
    "    def iterate (self, stim):\n",
    "        \n",
    "        \"\"\"Convert temperature in Fahrenheit to kelvin.\n",
    "    \n",
    "        Parameters:\n",
    "        -----------\n",
    "        fahr: int or float\n",
    "            The tempature in Fahrenheit.\n",
    "\n",
    "        Returns:\n",
    "        -----------\n",
    "        kelvin : int or float\n",
    "            The temperature in kelvin.\n",
    "        \"\"\"\n",
    "        \n",
    "        if self.Y.sum() > 0:\n",
    "            work = cspline2d(self.Y.astype(float), 90)\n",
    "        else:\n",
    "            work = np.zeros(self.Y.shape, float)\n",
    "            \n",
    "        self.F = self.f * self.F + stim + 8 * work\n",
    "        self.L = self.l * self.L + 8 * work\n",
    "        U = self.F * (1 + self.beta * self.L)\n",
    "        self.Y = U > self.T\n",
    "        self.T = self.t1 * self.T + self.t2 * self.Y + 0.1\n",
    "        \n",
    "    def a2i (self, indata):\n",
    "        \n",
    "        \"\"\"Convert temperature in Fahrenheit to kelvin.\n",
    "    \n",
    "        Parameters:\n",
    "        -----------\n",
    "        fahr: int or float\n",
    "            The tempature in Fahrenheit.\n",
    "\n",
    "        Returns:\n",
    "        -----------\n",
    "        kelvin : int or float\n",
    "            The temperature in kelvin.\n",
    "        \"\"\"\n",
    "        \n",
    "        mg = Image.new( 'L', indata.transpose().shape)\n",
    "        mn = indata.min()\n",
    "        a = indata - mn\n",
    "        mx = a.max()\n",
    "        a = a*256./mx\n",
    "        mg.putdata(a.ravel())\n",
    "        return mg\n",
    "    "
   ]
  },
  {
   "cell_type": "code",
   "execution_count": 64,
   "id": "32eea4d5",
   "metadata": {},
   "outputs": [
    {
     "data": {
      "text/plain": [
       "(360, 360)"
      ]
     },
     "execution_count": 64,
     "metadata": {},
     "output_type": "execute_result"
    }
   ],
   "source": [
    "data = np.zeros((360, 360))\n",
    "data[120:160, 120:240] = 1\n",
    "data[160:240, 160:200] = 1\n",
    "data.shape"
   ]
  },
  {
   "cell_type": "code",
   "execution_count": 72,
   "id": "22f2c52a",
   "metadata": {},
   "outputs": [],
   "source": [
    "net = PCNN(data.shape)\n",
    "Y = []\n",
    "for i in range(20):\n",
    "    net.iterate(data)\n",
    "    Y.append( net.Y + 0)\n",
    "    \n"
   ]
  },
  {
   "cell_type": "code",
   "execution_count": 74,
   "id": "77598832",
   "metadata": {},
   "outputs": [
    {
     "data": {
      "image/png": "[encoded data removed]",
      "text/plain": [
       "<PIL.Image.Image image mode=L size=360x360 at 0x15A5CB970>"
      ]
     },
     "execution_count": 74,
     "metadata": {},
     "output_type": "execute_result"
    }
   ],
   "source": [
    "net.a2i(Y[5])"
   ]
  },
  {
   "cell_type": "code",
   "execution_count": null,
   "id": "1ccfbded",
   "metadata": {},
   "outputs": [],
   "source": []
  }
 ],
 "metadata": {
  "kernelspec": {
   "display_name": "Python 3",
   "language": "python",
   "name": "python3"
  },
  "language_info": {
   "codemirror_mode": {
    "name": "ipython",
    "version": 3
   },
   "file_extension": ".py",
   "mimetype": "text/x-python",
   "name": "python",
   "nbconvert_exporter": "python",
   "pygments_lexer": "ipython3",
   "version": "3.9.2"
  }
 },
 "nbformat": 4,
 "nbformat_minor": 5
}
